{
 "cells": [
  {
   "cell_type": "code",
   "execution_count": null,
   "id": "0ec12a68-00a3-4d56-892c-700a7a194417",
   "metadata": {},
   "outputs": [],
   "source": [
    "#produce data stream to streaming application or streaming architecture\n",
    "#here simply use the disk (file system) as the channel for streaming"
   ]
  },
  {
   "cell_type": "code",
   "execution_count": null,
   "id": "ad799373-aece-455c-92b6-12950c9f26d0",
   "metadata": {},
   "outputs": [],
   "source": [
    "#this notebook takes csv rows from review_test.csv and send the reviews to review_stream folder\n",
    "#consumer notebook will take the data from review_stream folder to consume the data stream"
   ]
  },
  {
   "cell_type": "code",
   "execution_count": null,
   "id": "e2cea429-7805-42a5-a154-50c5d95ccf68",
   "metadata": {},
   "outputs": [],
   "source": [
    "import os\n",
    "import pandas as pd\n",
    "import numpy as np\n",
    "    \n",
    "#here we use pandas at local docker to speed up, with spark it is slow\n",
    "reviews_test_stream = pd.read_csv('./review_test.csv')\n",
    "review_streams = reviews_test_stream['review'].tolist()"
   ]
  },
  {
   "cell_type": "code",
   "execution_count": null,
   "id": "d5d2bfe0-87ac-4a2b-955f-5544193bb06d",
   "metadata": {},
   "outputs": [],
   "source": [
    "#remove existing files in review_stream to make it an empty folder ready for streaming\n",
    "streaming_path = './review_stream'\n",
    "if not os.path.exists(streaming_path):\n",
    "    os.makedirs(streaming_path)\n",
    "streaming_files = os.listdir(streaming_path)\n",
    "for f in streaming_files:\n",
    "    os.remove(os.path.join(streaming_path, f))"
   ]
  },
  {
   "cell_type": "code",
   "execution_count": null,
   "id": "ba5dc1e9-5dd4-4928-ab3d-786d1173dbc9",
   "metadata": {},
   "outputs": [],
   "source": [
    "import time\n",
    "import random\n",
    "import shutil\n",
    "\n",
    "i = 0\n",
    "num_review_streams = len(review_streams)\n",
    "\n",
    "start_time = time.time()\n",
    "current_time = time.time()\n",
    "\n",
    "#produce data stream for max data points or 5 minutes\n",
    "while i < num_review_streams and current_time - start_time <= 300:\n",
    "\n",
    "    seconds = random.randint(1,30)\n",
    "    num_reviews = random.randint(1,100)\n",
    "\n",
    "    current_time = time.time()\n",
    "    time.sleep(seconds)\n",
    "    \n",
    "    start = i\n",
    "    end = i + num_reviews\n",
    "\n",
    "    if end > num_review_streams:\n",
    "        end = num_review_streams\n",
    "\n",
    "    send_reviews = review_streams[start:end]\n",
    "    i = i + num_reviews\n",
    "    \n",
    "    ts = int(time.time())\n",
    "    des_path = os.path.join(streaming_path, \"reviews_\"+str(ts)+\".csv\")\n",
    "    pd.DataFrame(send_reviews, columns=['review']).to_csv(des_path, index=False)\n",
    "    \n",
    "    print(\"produce \"+str(num_reviews)+\" reviews in \"+str(seconds)+\"s\")\n"
   ]
  },
  {
   "cell_type": "code",
   "execution_count": null,
   "id": "9e23495f-fce4-44c0-b386-ca19a484403d",
   "metadata": {},
   "outputs": [],
   "source": []
  }
 ],
 "metadata": {
  "kernelspec": {
   "display_name": "Python 3 (ipykernel)",
   "language": "python",
   "name": "python3"
  },
  "language_info": {
   "codemirror_mode": {
    "name": "ipython",
    "version": 3
   },
   "file_extension": ".py",
   "mimetype": "text/x-python",
   "name": "python",
   "nbconvert_exporter": "python",
   "pygments_lexer": "ipython3",
   "version": "3.8.12"
  }
 },
 "nbformat": 4,
 "nbformat_minor": 5
}
